{
 "cells": [
  {
   "cell_type": "code",
   "execution_count": null,
   "metadata": {},
   "outputs": [],
   "source": [
    "import random\n",
    "\n",
    "# Define responses for different types of messages\n",
    "greetings = [\"hello\", \"hi\", \"hey\", \"greetings\", \"howdy\"]\n",
    "farewells = [\"goodbye\", \"bye\", \"see you later\", \"farewell\"]\n",
    "questions = [\"how are you?\", \"what's up?\", \"how's it going?\"]\n",
    "responses = {\n",
    "    \"greetings\": [\"Hello!\", \"Hi there!\", \"Hey!\"],\n",
    "    \"farewells\": [\"Goodbye!\", \"See you later!\", \"Take care!\"],\n",
    "    \"questions\": [\"I'm doing well, thanks for asking!\", \"Not much, just chatting with you!\", \"It's going fine, how about you?\"]\n",
    "}\n",
    "\n",
    "def chatbot(message):\n",
    "    if message.lower() in greetings:\n",
    "        return random.choice(responses[\"greetings\"])\n",
    "    elif message.lower() in farewells:\n",
    "        return random.choice(responses[\"farewells\"])\n",
    "    elif message.lower() in questions:\n",
    "        return random.choice(responses[\"questions\"])\n",
    "    else:\n",
    "        return \"I'm sorry, I didn't understand that.\"\n",
    "\n",
    "# Main loop\n",
    "print(\"Welcome to the Chatbot! Type 'exit' to quit.\")\n",
    "while True:\n",
    "    user_input = input(\"You: \")\n",
    "    if user_input.lower() == \"exit\":\n",
    "        print(\"Chatbot: Goodbye!\")\n",
    "        break\n",
    "    else:\n",
    "        bot_response = chatbot(user_input)\n",
    "        print(\"Chatbot:\", bot_response)\n"
   ]
  }
 ],
 "metadata": {
  "kernelspec": {
   "display_name": "Python 3",
   "language": "python",
   "name": "python3"
  },
  "language_info": {
   "name": "python",
   "version": "3.12.0"
  }
 },
 "nbformat": 4,
 "nbformat_minor": 2
}
